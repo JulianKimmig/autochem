{
 "cells": [
  {
   "cell_type": "code",
   "execution_count": 13,
   "id": "07839a6d-6ca1-4e0a-a850-677057303424",
   "metadata": {},
   "outputs": [],
   "source": [
    "SOURCE_FOLDER = \"C:\\\\Users\\\\Julian_Stobbe\\\\Downloads\\\\MRG-021-5-B-DMSO\\\\unsorted\"  # folder with unsorted nmr\n",
    "TARGET_FOLDER = \"C:\\\\Users\\\\Julian_Stobbe\\\\Downloads\\\\MRG-021-5-B-DMSO\\\\sorted\"  # folder with sorted nmr\n",
    "\n",
    "STRUCTURE = [\"initials\",\"ex_nr\",\"mono\",\"raft\",\"solvent\",\"sample\",\"time\"]\n",
    "SEPARATOR= \"-\"\n",
    "#keep original filnemame\n",
    "TARGET_STRUCTURE = \"{mono}\\\\{solvent}\\\\{raft}\\\\{ex_nr}\\\\{time}\\\\{initials}-{ex_nr}-{mono}-{raft}-{solvent}-{sample}-{time}\"\n",
    "#or better dont:\n",
    "TARGET_STRUCTURE = \"{mono}\\\\{solvent}\\\\{raft}\\\\{ex_nr}\\\\{time}\\\\{sample}\"\n",
    "\n",
    "\n",
    "import os\n",
    "import shutil\n",
    "\n",
    "os.makedirs(TARGET_FOLDER,exist_ok=True)\n",
    "for d in os.listdir(SOURCE_FOLDER):\n",
    "    splitted=dict(zip(STRUCTURE,d.split(SEPARATOR)))\n",
    "    splitted[\"time\"]='{:04.1f}'.format(float(splitted[\"time\"].replace(\"h\",\"\")))\n",
    "    targf= os.path.join(TARGET_FOLDER,TARGET_STRUCTURE.format(**splitted))\n",
    "    shutil.move(os.path.join(SOURCE_FOLDER,d),targf)"
   ]
  },
  {
   "cell_type": "code",
   "execution_count": 28,
   "id": "73418d91-a982-46e1-878d-f447611ba996",
   "metadata": {},
   "outputs": [],
   "source": []
  },
  {
   "cell_type": "code",
   "execution_count": 29,
   "id": "cf5c8eed-455e-4624-88df-eb8aab141554",
   "metadata": {},
   "outputs": [],
   "source": []
  },
  {
   "cell_type": "code",
   "execution_count": null,
   "id": "8fbb2c11-5868-48be-8903-403996a2cbdc",
   "metadata": {},
   "outputs": [],
   "source": []
  }
 ],
 "metadata": {
  "kernelspec": {
   "display_name": "Python 3",
   "language": "python",
   "name": "python3"
  },
  "language_info": {
   "codemirror_mode": {
    "name": "ipython",
    "version": 3
   },
   "file_extension": ".py",
   "mimetype": "text/x-python",
   "name": "python",
   "nbconvert_exporter": "python",
   "pygments_lexer": "ipython3",
   "version": "3.9.4"
  }
 },
 "nbformat": 4,
 "nbformat_minor": 5
}
