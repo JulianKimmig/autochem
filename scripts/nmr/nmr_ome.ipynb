{
 "cells": [
  {
   "cell_type": "code",
   "execution_count": 21,
   "id": "e7009a62-0161-424a-b905-0788678e2e4f",
   "metadata": {},
   "outputs": [],
   "source": [
    "import sys, os\n",
    "import logging\n",
    "if __name__ == '__main__':\n",
    "    ddir = os.path.dirname(os.path.abspath(\"\"))\n",
    "    while \"autochem\" not in os.listdir(ddir):\n",
    "        ddir = os.path.dirname(ddir)\n",
    "    sys.path.insert(0, ddir)\n",
    "    sys.path.append(ddir)\n",
    "from autochem.spectra.nmr.reader import read_nmr, NMRReadError\n",
    "logging.basicConfig()\n",
    "from matplotlib import pyplot as plt"
   ]
  },
  {
   "cell_type": "code",
   "execution_count": 22,
   "id": "7c970bc2-887c-4936-b571-c3f72637d553",
   "metadata": {},
   "outputs": [],
   "source": [
    "logger = logging.getLogger(\"autochem\")\n",
    "logger.setLevel(\"DEBUG\")"
   ]
  },
  {
   "cell_type": "code",
   "execution_count": 23,
   "id": "848fa4ca-41da-4ba7-8417-f9a58db5d54f",
   "metadata": {},
   "outputs": [],
   "source": [
    "FOLDER = \"C:\\\\Users\\\\be34gof\\\\Downloads\\\\autonmr\\\\20220202115053\""
   ]
  },
  {
   "cell_type": "code",
   "execution_count": 24,
   "id": "06066f6f-0e08-4b10-954e-8958f964d66e",
   "metadata": {},
   "outputs": [],
   "source": [
    "def find_nmrs(root, path_only=False, skip_path=None):\n",
    "    for path, folder, files in os.walk(root):\n",
    "        if skip_path is not None:\n",
    "            if skip_path(path):\n",
    "                continue\n",
    "        try:\n",
    "            data, udict = read_nmr(path, preprocess=True)\n",
    "            logger.info(\"read '{}' as '{}'\".format(path, udict[\"datatype\"]))\n",
    "            if path_only:\n",
    "                yield path\n",
    "            else:\n",
    "                udict[\"path\"] = path\n",
    "                yield (data, udict)\n",
    "        except NMRReadError:\n",
    "            pass"
   ]
  },
  {
   "cell_type": "code",
   "execution_count": 258,
   "id": "3ae1943d-9a2b-4ddb-94dd-983151a978b3",
   "metadata": {},
   "outputs": [],
   "source": [
    "import nmrglue.process.proc_autophase\n",
    "import nmrglue as ng\n",
    "import numpy as np\n",
    "from scipy.optimize import minimize\n",
    "def work_spec(data, data_dict, path):\n",
    "    processing=[]\n",
    "    ppm_scale = data_dict[\"ppm_scale\"]\n",
    "    data=data_dict[\"raw_data\"]\n",
    "    data = ng.proc_base.fft(data)[::-1]\n",
    "    data=data-np.median(data)\n",
    "    data=data/data.max()\n",
    "    plt.plot(ppm_scale,data)\n",
    "\n",
    "    #plt.xlim(-42,-37)\n",
    "    #plt.show()\n",
    "    #plt.close()\n",
    "    def phascecorr(r,data):\n",
    "        p0,p1=r\n",
    "        nd = nmrglue.proc_base.ps(data, p0=p0,p1=p1)\n",
    "        nd=ng.proc_base.di(nd)\n",
    "        nd=nd-np.median(nd)\n",
    "        nd=nd/nd.max()\n",
    "        negsum=- nd[nd<0].sum()\n",
    "        return negsum\n",
    "    \n",
    "    \n",
    "    r=[-100,-100]\n",
    "    print(r)\n",
    "    for i in range(2):\n",
    "        _min = minimize(phascecorr,\n",
    "                       r,\n",
    "                       (data),\n",
    "                       method = 'Nelder-Mead',\n",
    "                     #  bounds=bounds\n",
    "                       )\n",
    "        r=_min[\"x\"]\n",
    "        print(r)\n",
    "    \n",
    "    print(r)\n",
    "    nd = nmrglue.proc_base.ps(data, p0=r[0], p1=r[1])\n",
    "    nd=ng.proc_base.di(nd)\n",
    "    nd=nd-np.median(nd)\n",
    "    nd=nd/nd.max()\n",
    "    plt.plot(ppm_scale,nd)\n",
    "    plt.xlim(-42,-37)\n",
    "    plt.show()\n",
    "    plt.close()\n",
    "    "
   ]
  },
  {
   "cell_type": "code",
   "execution_count": 261,
   "id": "305c44b2-d2ca-45cf-985e-811121f7ac34",
   "metadata": {},
   "outputs": [
    {
     "name": "stderr",
     "output_type": "stream",
     "text": [
      "INFO:autochem:read 'C:\\Users\\be34gof\\Downloads\\autonmr\\20220202115053\\00098' as 'magritek'\n",
      "C:\\Users\\be34gof\\Syn\\programming\\envs\\autochem\\lib\\site-packages\\matplotlib\\cbook\\__init__.py:1333: ComplexWarning: Casting complex values to real discards the imaginary part\n",
      "  return np.asarray(x, float)\n"
     ]
    },
    {
     "name": "stdout",
     "output_type": "stream",
     "text": [
      "[-100, -100]\n",
      "[  6.6545781  -14.70332686]\n",
      "[  6.65392552 -14.71037973]\n",
      "[  6.65392552 -14.71037973]\n"
     ]
    },
    {
     "data": {
      "image/png": "[encoded data removed]",
      "text/plain": [
       "<Figure size 432x288 with 1 Axes>"
      ]
     },
     "metadata": {
      "needs_background": "light"
     },
     "output_type": "display_data"
    }
   ],
   "source": [
    "\n",
    "for i,(data, data_dict) in enumerate(find_nmrs(FOLDER,skip_path=lambda p: not p.endswith(\"00098\"))):\n",
    "    path = data_dict[\"path\"]\n",
    "    sdf = work_spec(data, data_dict, path)\n",
    "    break"
   ]
  },
  {
   "cell_type": "code",
   "execution_count": 325,
   "id": "d96146d8-bd99-4b14-93fe-d200804a580a",
   "metadata": {},
   "outputs": [],
   "source": [
    "def moving_average(a, n=3) :\n",
    "        n=min(n,a.shape[0])\n",
    "        a=a.copy()\n",
    "        ret = np.cumsum(np.nan_to_num(a), dtype=float,axis=0)\n",
    "        starts = (ret!=0).argmax(0)\n",
    "        starts[ret[starts,np.arange(starts.shape[0])]==0]=a.shape[0]\n",
    "        for i,s in enumerate(starts):\n",
    "            a[:s,i]=a[s,i]\n",
    "        ret = np.cumsum(np.nan_to_num(a), dtype=float,axis=0)\n",
    "        \n",
    "        ret[n:] = ret[n:] - ret[:-n]\n",
    "        ret[n - 1:]/=n\n",
    "        if n>1:\n",
    "            ret[:n - 1]=(ret[:n - 1].T/np.arange(1,n)).T\n",
    "        for i,s in enumerate(starts):\n",
    "            ret[:s,i]=np.nan\n",
    "        return ret"
   ]
  },
  {
   "cell_type": "code",
   "execution_count": 326,
   "id": "35676528-e145-4ec3-b854-3239f37c46f3",
   "metadata": {},
   "outputs": [],
   "source": [
    "l=50\n",
    "s=5\n",
    "za = np.zeros((s,l))*np.nan\n",
    "si = np.random.randint(int(l/2),size=s)\n",
    "for j,i in enumerate(si):\n",
    "    za[j,i:]= np.arange(0,l-i)/10+j\n",
    "#(za!=0).argmax(1)"
   ]
  },
  {
   "cell_type": "code",
   "execution_count": 327,
   "id": "554474fa-d2cf-487c-a0b6-266677548e78",
   "metadata": {},
   "outputs": [
    {
     "data": {
      "text/plain": [
       "[<matplotlib.lines.Line2D at 0x1cb13d58e80>,\n",
       " <matplotlib.lines.Line2D at 0x1cb13d58eb0>,\n",
       " <matplotlib.lines.Line2D at 0x1cb13d58fd0>,\n",
       " <matplotlib.lines.Line2D at 0x1cb13d63130>,\n",
       " <matplotlib.lines.Line2D at 0x1cb13d63250>]"
      ]
     },
     "execution_count": 327,
     "metadata": {},
     "output_type": "execute_result"
    },
    {
     "data": {
      "image/png": "[encoded data removed]",
      "text/plain": [
       "<Figure size 432x288 with 1 Axes>"
      ]
     },
     "metadata": {
      "needs_background": "light"
     },
     "output_type": "display_data"
    }
   ],
   "source": [
    "plt.plot(za.T,\"o\")\n",
    "plt.plot(moving_average(za.T))"
   ]
  },
  {
   "cell_type": "code",
   "execution_count": 321,
   "id": "3cbf0bed-821b-4e48-a355-e5b5d692b688",
   "metadata": {},
   "outputs": [
    {
     "data": {
      "text/plain": [
       "array([[0.1       , 1.        , 2.        , 3.        , 4.        ],\n",
       "       [0.1       , 1.        , 2.        , 3.        , 4.        ],\n",
       "       [0.1       , 1.        , 2.        , 3.        , 4.        ],\n",
       "       [0.1       , 1.        , 2.        , 3.        , 4.        ],\n",
       "       [0.1       , 1.        , 2.        , 3.        , 4.        ],\n",
       "       [0.1       , 1.        , 2.        , 3.        , 4.        ],\n",
       "       [0.1       , 1.        , 2.        , 3.        , 4.        ],\n",
       "       [0.1       , 1.        , 2.        , 3.        , 4.        ],\n",
       "       [0.13333333, 1.        , 2.        , 3.        , 4.        ],\n",
       "       [0.2       , 1.        , 2.        , 3.        , 4.        ],\n",
       "       [0.3       , 1.        , 2.        , 3.        , 4.        ],\n",
       "       [0.4       , 1.        , 2.        , 3.        , 4.        ],\n",
       "       [0.5       , 1.03333333, 2.        , 3.        , 4.        ],\n",
       "       [0.6       , 1.1       , 2.        , 3.        , 4.        ],\n",
       "       [0.7       , 1.2       , 2.        , 3.        , 4.        ],\n",
       "       [0.8       , 1.3       , 2.        , 3.        , 4.        ],\n",
       "       [0.9       , 1.4       , 2.        , 3.        , 4.        ],\n",
       "       [1.        , 1.5       , 2.        , 3.        , 4.        ],\n",
       "       [1.1       , 1.6       , 2.        , 3.        , 4.        ],\n",
       "       [1.2       , 1.7       , 2.        , 3.        , 4.        ],\n",
       "       [1.3       , 1.8       , 2.        , 3.03333333, 4.        ],\n",
       "       [1.4       , 1.9       , 2.        , 3.1       , 4.        ],\n",
       "       [1.5       , 2.        , 2.        , 3.2       , 4.        ],\n",
       "       [1.6       , 2.1       , 2.03333333, 3.3       , 4.03333333],\n",
       "       [1.7       , 2.2       , 2.1       , 3.4       , 4.1       ],\n",
       "       [1.8       , 2.3       , 2.2       , 3.5       , 4.2       ],\n",
       "       [1.9       , 2.4       , 2.3       , 3.6       , 4.3       ],\n",
       "       [2.        , 2.5       , 2.4       , 3.7       , 4.4       ],\n",
       "       [2.1       , 2.6       , 2.5       , 3.8       , 4.5       ],\n",
       "       [2.2       , 2.7       , 2.6       , 3.9       , 4.6       ],\n",
       "       [2.3       , 2.8       , 2.7       , 4.        , 4.7       ],\n",
       "       [2.4       , 2.9       , 2.8       , 4.1       , 4.8       ],\n",
       "       [2.5       , 3.        , 2.9       , 4.2       , 4.9       ],\n",
       "       [2.6       , 3.1       , 3.        , 4.3       , 5.        ],\n",
       "       [2.7       , 3.2       , 3.1       , 4.4       , 5.1       ],\n",
       "       [2.8       , 3.3       , 3.2       , 4.5       , 5.2       ],\n",
       "       [2.9       , 3.4       , 3.3       , 4.6       , 5.3       ],\n",
       "       [3.        , 3.5       , 3.4       , 4.7       , 5.4       ],\n",
       "       [3.1       , 3.6       , 3.5       , 4.8       , 5.5       ],\n",
       "       [3.2       , 3.7       , 3.6       , 4.9       , 5.6       ],\n",
       "       [3.3       , 3.8       , 3.7       , 5.        , 5.7       ],\n",
       "       [3.4       , 3.9       , 3.8       , 5.1       , 5.8       ],\n",
       "       [3.5       , 4.        , 3.9       , 5.2       , 5.9       ],\n",
       "       [3.6       , 4.1       , 4.        , 5.3       , 6.        ],\n",
       "       [3.7       , 4.2       , 4.1       , 5.4       , 6.1       ],\n",
       "       [3.8       , 4.3       , 4.2       , 5.5       , 6.2       ],\n",
       "       [3.9       , 4.4       , 4.3       , 5.6       , 6.3       ],\n",
       "       [4.        , 4.5       , 4.4       , 5.7       , 6.4       ],\n",
       "       [4.1       , 4.6       , 4.5       , 5.8       , 6.5       ],\n",
       "       [4.2       , 4.7       , 4.6       , 5.9       , 6.6       ]])"
      ]
     },
     "execution_count": 321,
     "metadata": {},
     "output_type": "execute_result"
    }
   ],
   "source": [
    "moving_average(za.T)"
   ]
  },
  {
   "cell_type": "code",
   "execution_count": 33,
   "id": "978bc0be-fcf5-4054-815b-6c8beef54b76",
   "metadata": {},
   "outputs": [],
   "source": [
    "import pandas as pd\n",
    "import datetime\n",
    "df=pd.DataFrame()\n",
    "nindx = ['startTime',\"delta_time\", \"peak\"]\n",
    "for t in range(10):\n",
    "    d=datetime.datetime.now()-datetime.timedelta(seconds=t*59)\n",
    "    sdf = pd.DataFrame([{\"startTime\":d,\"peak\":p} for p in [1,2,3] ])\n",
    "    sdf.set_index([ix for ix in nindx if ix in sdf.columns], inplace=True)\n",
    "    df = pd.concat([df, sdf[~sdf.index.isin(df.index)]])\n",
    "    \n",
    "df.sort_values(\"startTime\",inplace=True)\n",
    "df = df.reset_index()\n",
    "df[\"delta_time\"]=(df[\"startTime\"]-df.iloc[0][\"startTime\"])\n",
    "df[\"delta_time\"] = df[\"delta_time\"].apply(lambda d: d.total_seconds())\n",
    "df.set_index(nindx, inplace=True)\n",
    "display(df)"
   ]
  },
  {
   "cell_type": "code",
   "execution_count": 126,
   "id": "8cdee414-dfce-4774-9aa3-cf6abe02338e",
   "metadata": {},
   "outputs": [
    {
     "name": "stdout",
     "output_type": "stream",
     "text": [
      "indices 1 1 species_peak 3.77 target_peak 3.8 [3.6 3.9]\n",
      "indices 4 2 species_peak 4.5 target_peak 4.43 [4.4 4.7]\n",
      "indices 0 1 species_peak 3.9 target_peak 3.8 [3.6 3.9]\n",
      "indices 5 0 species_peak 2.7 target_peak 2.4 [2.2  2.75]\n",
      "{3.8: 0, 4.43: 4, 2.4: 5}\n"
     ]
    },
    {
     "data": {
      "text/plain": [
       "{2.4: [2.7], 3.8: [3.9, 3.77], 4.43: [4.5], 10.0: ''}"
      ]
     },
     "execution_count": 126,
     "metadata": {},
     "output_type": "execute_result"
    }
   ],
   "source": [
    "import numpy as np\n",
    "SPECIES_PEAKS = [[3.9,3.77], [4.12], [4.3], [4.5],[2.7]]\n",
    "\n",
    "peak_targets=np.array([2.4,3.8,4.43,10])\n",
    "detected_peak_ranges=np.array([[2.2,2.75],[3.6,3.9],[4.4,4.7],[9,11]])\n",
    "\n",
    "flatted_specie_peaks=[]\n",
    "flatted_specie_peaks_indices=[]\n",
    "for i,pl in enumerate(SPECIES_PEAKS):\n",
    "    flatted_specie_peaks.extend(pl)\n",
    "    flatted_specie_peaks_indices.extend([i]*len(pl))\n",
    "flatted_specie_peaks=np.array(flatted_specie_peaks)\n",
    "flatted_specie_peaks_indices=np.array(flatted_specie_peaks_indices)\n",
    "\n",
    "targets={}\n",
    "\n",
    "#flatted_specie_peaks,flatted_specie_peaks_indices\n",
    "diff_matrix = np.abs(np.subtract.outer(flatted_specie_peaks,peak_targets))\n",
    "sorted_indices=[]\n",
    "while np.any(~np.isnan(diff_matrix)):\n",
    "    induices =np.unravel_index(np.nanargmin(diff_matrix), diff_matrix.shape)\n",
    "    sorted_indices.append(induices)\n",
    "    diff_matrix[induices]=np.nan\n",
    "sorted_indices=np.array(sorted_indices).astype(float)\n",
    "\n",
    "targets={}\n",
    "\n",
    "while sorted_indices.shape[0]>0:\n",
    "    sorted_indices=sorted_indices[~np.isnan(sorted_indices)].reshape(-1,2)\n",
    "    found=False\n",
    "    for i,(ix1,ix2) in enumerate(sorted_indices):\n",
    "        ix1=int(ix1)\n",
    "        ix2=int(ix2)\n",
    "        species_peak=flatted_specie_peaks[ix1]\n",
    "        target_peak=peak_targets[ix2]\n",
    "        dec_range=detected_peak_ranges[ix2]\n",
    "        if dec_range[0]<=species_peak and dec_range[1]>=species_peak:\n",
    "            found=True\n",
    "            targets[target_peak]=ix1\n",
    "            print(\"indices\",ix1,ix2,\"species_peak\",species_peak,\"target_peak\",target_peak,dec_range)\n",
    "            sorted_indices[i,:]=np.nan\n",
    "            break\n",
    "            \n",
    "    if not found:\n",
    "        sorted_indices[:]=np.nan\n",
    "        \n",
    "    if sorted_indices.shape[0]==0:\n",
    "        break\n",
    "\n",
    "print(targets)\n",
    "\n",
    "\n",
    "{p:(SPECIES_PEAKS[flatted_specie_peaks_indices[targets.get(p)]] if targets.get(p) is not None else \"\") for p in peak_targets}\n",
    "#for k,v in targets.items():\n",
    "#    print(peak_targets[k],SPECIES_PEAKS[flatted_specie_peaks_indices[v]])\n",
    "\n"
   ]
  },
  {
   "cell_type": "code",
   "execution_count": 179,
   "id": "8cfa00a5-0b1f-4e70-9e8e-ffe8330458e9",
   "metadata": {},
   "outputs": [
    {
     "name": "stdout",
     "output_type": "stream",
     "text": [
      "0 [100 900]\n",
      "0 [100 900]\n"
     ]
    }
   ],
   "source": [
    "x=np.arange(10000)/100\n",
    "peaks=np.array([700,800])\n",
    "peak_ranges=[[19,30.744],[1,9]]\n",
    "peak_ranges=np.array(peak_ranges)\n",
    "\n",
    "\n",
    "if peak_ranges is not None:\n",
    "        peak_ranges=np.array(peak_ranges)\n",
    "        assert peak_ranges.shape[1]==2\n",
    "        peak_ranges=peak_ranges[peak_ranges[:, 0].argsort()]\n",
    "        assert not np.any(np.diff(peak_ranges.flatten())<0),\"overlap in peak ranges\"\n",
    "        \n",
    "if x is not None and peak_ranges is not None:\n",
    "    us = np.abs(np.subtract.outer(peak_ranges,x))\n",
    "    peak_ranges = us.argmin(-1)\n",
    "    \n",
    "\n",
    "for i,p in enumerate(peaks):\n",
    "    ranges=(p >=peak_ranges[:,0])&(p <=peak_ranges[:,1])\n",
    "    ranei=ranges.argmax()\n",
    "    print(ranei,peak_ranges[ranei])"
   ]
  },
  {
   "cell_type": "code",
   "execution_count": 168,
   "id": "67ca7b32-5f9b-40b7-b16b-65527c7dc385",
   "metadata": {},
   "outputs": [
    {
     "data": {
      "text/plain": [
       "array([100, 900], dtype=int64)"
      ]
     },
     "execution_count": 168,
     "metadata": {},
     "output_type": "execute_result"
    }
   ],
   "source": [
    "peak_ranges[0]"
   ]
  },
  {
   "cell_type": "code",
   "execution_count": null,
   "id": "42e4c183-9255-4301-b43a-923cd6a4bdce",
   "metadata": {},
   "outputs": [],
   "source": []
  }
 ],
 "metadata": {
  "kernelspec": {
   "display_name": "Python 3 (ipykernel)",
   "language": "python",
   "name": "python3"
  },
  "language_info": {
   "codemirror_mode": {
    "name": "ipython",
    "version": 3
   },
   "file_extension": ".py",
   "mimetype": "text/x-python",
   "name": "python",
   "nbconvert_exporter": "python",
   "pygments_lexer": "ipython3",
   "version": "3.8.10"
  }
 },
 "nbformat": 4,
 "nbformat_minor": 5
}
