{
 "cells": [
  {
   "cell_type": "code",
   "execution_count": 6,
   "outputs": [],
   "source": [
    "BASE_FOLDER = \"..\\\\test\\\\testdata\\\\nmr\"  # folder with the spec\n",
    "\n",
    "RECURSIVE = True  # check all subfolders of BASE_FOLDER\n",
    "MIN_PEAK_HEIGHT = 0.02  # realtiv to maximum\n",
    "MIN_PEAK_DISTANCE = 0.1  # before mergine to one peak\n",
    "MAX_PEAK_WIDTH = 2\n",
    "\n",
    "REF_PEAK = 3.3\n",
    "REF_PEAK_AREA = 6\n",
    "\n",
    "SHOW_IMAGE = True\n",
    "STORE_CSV = True  # for every spec\n",
    "STORE_IMG = True  # for every spec"
   ],
   "metadata": {
    "collapsed": false,
    "pycharm": {
     "name": "#%%\n"
    }
   }
  },
  {
   "cell_type": "code",
   "execution_count": 7,
   "metadata": {
    "pycharm": {
     "name": "#%%\n"
    }
   },
   "outputs": [],
   "source": [
    "_USE_IMAGE = SHOW_IMAGE or STORE_IMG"
   ]
  },
  {
   "cell_type": "code",
   "execution_count": 8,
   "outputs": [],
   "source": [
    "import os\n",
    "import sys\n",
    "\n",
    "sys.path.append(\"..\")\n",
    "from autochem.spectra.nmr.utils import zoom\n",
    "from autochem.spectra.nmr.reader import read_nmr, NMRReadError\n",
    "from autochem.utils.corrections import norm_data\n",
    "from autochem.utils.corrections.baseline import rubberband_correction\n",
    "from autochem.utils.signals.peak_detection import (\n",
    "    find_peaks,\n",
    "    peak_integration,\n",
    "    get_reference_peak,\n",
    ")\n",
    "\n",
    "if _USE_IMAGE:\n",
    "    import matplotlib.pyplot as plt\n",
    "import numpy as np\n",
    "import pandas as pd"
   ],
   "metadata": {
    "collapsed": false,
    "pycharm": {
     "name": "#%%\n"
    }
   }
  },
  {
   "cell_type": "code",
   "execution_count": 9,
   "outputs": [],
   "source": [
    "def work_path(path):\n",
    "    data, udict = read_nmr(path, preprocess=True)\n",
    "    print(\"read '{}' as {}\".format(path,udict[\"datatype\"]))\n",
    "    \n",
    "    ppm=udict[\"ppm_scale\"]\n",
    "    \n",
    "    data, corr_data = rubberband_correction(ppm,data)\n",
    "\n",
    "    data, normed = norm_data(data)\n",
    "\n",
    "    #plt.plot(ppm,data)\n",
    "    #plt.show()\n",
    "    #plt.close()\n",
    "\n",
    "    peaks, peak_data = find_peaks(y=data, x=ppm, min_peak_height=MIN_PEAK_HEIGHT, rel_height=0.001,\n",
    "                                 max_width=MAX_PEAK_WIDTH\n",
    "                                 )\n",
    "    #print(peak_data)\n",
    "    #print(peak_data[\"peak_left_border\"].min(),peak_data[\"peak_right_border\"].max())\n",
    "    #print(ppm[peak_data[\"peak_left_border\"].min()],\n",
    "    #        ppm[peak_data[\"peak_right_border\"].max()])\n",
    "    data, ppm = zoom(\n",
    "            data,\n",
    "            ppm,\n",
    "            ppm[peak_data[\"peak_left_border\"].min()],\n",
    "            ppm[peak_data[\"peak_right_border\"].max()],\n",
    "        )\n",
    "    \n",
    "    data, corr_data = rubberband_correction(ppm,data)\n",
    "\n",
    "    data, normed = norm_data(data)\n",
    "\n",
    "    \n",
    "    peaks, peak_data = find_peaks(y=data, x=ppm, min_peak_height=MIN_PEAK_HEIGHT,\n",
    "                                  rel_height=0.01, rel_prominence=0.4,min_distance=MIN_PEAK_DISTANCE,\n",
    "                                  center=\"median\"\n",
    "                                 )\n",
    "    \n",
    "    peaks, peak_data = peak_integration(x=ppm,\n",
    "                                            y=data,\n",
    "                                            peaks=peaks,\n",
    "                                            peak_data=peak_data,\n",
    "                                            )\n",
    "    \n",
    "    pidx, peak = get_reference_peak(\n",
    "            ppm[peaks],\n",
    "            REF_PEAK,\n",
    "            max_diff=1)\n",
    "    normf = REF_PEAK_AREA / peak_data[\"integrals\"][pidx]\n",
    "    peak_data[\"integrals\"]*= normf\n",
    "    peak_data[\"cum_integral\"]*= normf,\n",
    "\n",
    "    if _USE_IMAGE:\n",
    "        plt.plot(ppm,data,linewidth=1)\n",
    "        plt.plot(ppm[peaks], peak_data[\"peak_heights\"], \"+\", label=\"peaks\")\n",
    "\n",
    "        cumi = peak_data[\"cum_integral\"]\n",
    "        cumi = cumi - cumi.min()\n",
    "        cumi /= cumi.max() * 2\n",
    "        cumi += 0.25\n",
    "        plt.plot(ppm, cumi, \"g--\")\n",
    "        incum = np.zeros(cumi.shape[0], dtype=bool)\n",
    "        for i in range(peaks.shape[0]):\n",
    "            lb = peak_data['peak_left_border'][i]\n",
    "            rb = peak_data['peak_right_border'][i]\n",
    "            plt.fill_between(x=ppm[lb:rb], y1=data[lb:rb], alpha=0.5)\n",
    "            incum[lb:rb] = True\n",
    "            cumi[~incum] = np.nan\n",
    "        plt.plot(ppm, cumi, \"g\", label=\"integral\")\n",
    "\n",
    "        plt.xlabel(\"$\\delta$ [ppm]\")\n",
    "        plt.yticks([])\n",
    "    \n",
    "        if STORE_IMG:\n",
    "            plt.savefig(os.path.join(path,\"signals_ac.png\"),dpi=300)\n",
    "        if SHOW_IMAGE:\n",
    "            plt.show()\n",
    "        plt.close()\n",
    "    \n",
    "    df = pd.DataFrame({\n",
    "        \"ppm\":ppm[peaks],\n",
    "        \"area\":peak_data[\"integrals\"],\n",
    "        \"est nucl.\":np.round(peak_data[\"integrals\"]).astype(int)\n",
    "    })\n",
    "    display(df)    \n",
    "    if STORE_CSV:\n",
    "        df.to_csv(os.path.join(path,\"signals_ac.csv\"),index=False)\n",
    "    return df"
   ],
   "metadata": {
    "collapsed": false,
    "pycharm": {
     "name": "#%%\n"
    }
   }
  },
  {
   "cell_type": "code",
   "execution_count": 12,
   "metadata": {
    "pycharm": {
     "name": "#%%\n"
    }
   },
   "outputs": [],
   "source": [
    "def main():\n",
    "    if RECURSIVE:\n",
    "        for path,folder,files in os.walk(BASE_FOLDER):\n",
    "            try:\n",
    "                work_path(path)\n",
    "            except NMRReadError:\n",
    "                pass\n",
    "    else:\n",
    "        work_path(BASE_FOLDER)"
   ]
  },
  {
   "cell_type": "code",
   "execution_count": 11,
   "metadata": {
    "pycharm": {
     "name": "#%%\n"
    }
   },
   "outputs": [
    {
     "name": "stdout",
     "output_type": "stream",
     "text": [
      "read '..\\test\\testdata\\nmr\\bruker_1\\10' as bruker\n"
     ]
    },
    {
     "data": {
      "text/plain": "<Figure size 432x288 with 1 Axes>",
      "image/png": "[encoded data removed]"
     },
     "metadata": {
      "needs_background": "light"
     },
     "output_type": "display_data"
    },
    {
     "data": {
      "text/plain": "        ppm       area  est nucl.\n0  1.153173  11.848329         12\n1  1.258346   9.314343          9\n2  2.435413   4.260385          4\n3  3.440295   6.000000          6\n4  3.617445   8.067393          8\n5  4.205358   6.211131          6",
      "text/html": "<div>\n<style scoped>\n    .dataframe tbody tr th:only-of-type {\n        vertical-align: middle;\n    }\n\n    .dataframe tbody tr th {\n        vertical-align: top;\n    }\n\n    .dataframe thead th {\n        text-align: right;\n    }\n</style>\n<table border=\"1\" class=\"dataframe\">\n  <thead>\n    <tr style=\"text-align: right;\">\n      <th></th>\n      <th>ppm</th>\n      <th>area</th>\n      <th>est nucl.</th>\n    </tr>\n  </thead>\n  <tbody>\n    <tr>\n      <th>0</th>\n      <td>1.153173</td>\n      <td>11.848329</td>\n      <td>12</td>\n    </tr>\n    <tr>\n      <th>1</th>\n      <td>1.258346</td>\n      <td>9.314343</td>\n      <td>9</td>\n    </tr>\n    <tr>\n      <th>2</th>\n      <td>2.435413</td>\n      <td>4.260385</td>\n      <td>4</td>\n    </tr>\n    <tr>\n      <th>3</th>\n      <td>3.440295</td>\n      <td>6.000000</td>\n      <td>6</td>\n    </tr>\n    <tr>\n      <th>4</th>\n      <td>3.617445</td>\n      <td>8.067393</td>\n      <td>8</td>\n    </tr>\n    <tr>\n      <th>5</th>\n      <td>4.205358</td>\n      <td>6.211131</td>\n      <td>6</td>\n    </tr>\n  </tbody>\n</table>\n</div>"
     },
     "metadata": {},
     "output_type": "display_data"
    },
    {
     "name": "stdout",
     "output_type": "stream",
     "text": [
      "read '..\\test\\testdata\\nmr\\magritek_1' as magritek\n"
     ]
    },
    {
     "data": {
      "text/plain": "<Figure size 432x288 with 1 Axes>",
      "image/png": "[encoded data removed]"
     },
     "metadata": {
      "needs_background": "light"
     },
     "output_type": "display_data"
    },
    {
     "data": {
      "text/plain": "        ppm      area  est nucl.\n0  1.657169  5.207368          5\n1  2.661610  1.583118          2\n2  2.809116  1.416108          1\n3  3.476402  6.000000          6\n4  7.817276  0.475432          0",
      "text/html": "<div>\n<style scoped>\n    .dataframe tbody tr th:only-of-type {\n        vertical-align: middle;\n    }\n\n    .dataframe tbody tr th {\n        vertical-align: top;\n    }\n\n    .dataframe thead th {\n        text-align: right;\n    }\n</style>\n<table border=\"1\" class=\"dataframe\">\n  <thead>\n    <tr style=\"text-align: right;\">\n      <th></th>\n      <th>ppm</th>\n      <th>area</th>\n      <th>est nucl.</th>\n    </tr>\n  </thead>\n  <tbody>\n    <tr>\n      <th>0</th>\n      <td>1.657169</td>\n      <td>5.207368</td>\n      <td>5</td>\n    </tr>\n    <tr>\n      <th>1</th>\n      <td>2.661610</td>\n      <td>1.583118</td>\n      <td>2</td>\n    </tr>\n    <tr>\n      <th>2</th>\n      <td>2.809116</td>\n      <td>1.416108</td>\n      <td>1</td>\n    </tr>\n    <tr>\n      <th>3</th>\n      <td>3.476402</td>\n      <td>6.000000</td>\n      <td>6</td>\n    </tr>\n    <tr>\n      <th>4</th>\n      <td>7.817276</td>\n      <td>0.475432</td>\n      <td>0</td>\n    </tr>\n  </tbody>\n</table>\n</div>"
     },
     "metadata": {},
     "output_type": "display_data"
    }
   ],
   "source": [
    " main()"
   ]
  },
  {
   "cell_type": "code",
   "execution_count": 5,
   "outputs": [],
   "source": [],
   "metadata": {
    "collapsed": false,
    "pycharm": {
     "name": "#%%\n"
    }
   }
  },
  {
   "cell_type": "code",
   "execution_count": 14,
   "outputs": [],
   "source": [],
   "metadata": {
    "collapsed": false,
    "pycharm": {
     "name": "#%%\n"
    }
   }
  }
 ],
 "metadata": {
  "kernelspec": {
   "display_name": "Python 3",
   "language": "python",
   "name": "python3"
  },
  "language_info": {
   "codemirror_mode": {
    "name": "ipython",
    "version": 3
   },
   "file_extension": ".py",
   "mimetype": "text/x-python",
   "name": "python",
   "nbconvert_exporter": "python",
   "pygments_lexer": "ipython3",
   "version": "3.9.4"
  }
 },
 "nbformat": 4,
 "nbformat_minor": 4
}